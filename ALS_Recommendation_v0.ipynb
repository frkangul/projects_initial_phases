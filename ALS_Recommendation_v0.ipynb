{
  "nbformat": 4,
  "nbformat_minor": 0,
  "metadata": {
    "colab": {
      "name": "ALS_Recommendation_v0.ipynb",
      "provenance": [],
      "collapsed_sections": []
    },
    "kernelspec": {
      "name": "python3",
      "display_name": "Python 3"
    },
    "language_info": {
      "name": "python"
    }
  },
  "cells": [
    {
      "cell_type": "code",
      "metadata": {
        "colab": {
          "base_uri": "https://localhost:8080/"
        },
        "id": "9xlm3bd6aeCZ",
        "outputId": "5c20e8bd-2af6-46be-a2eb-d3114a88c8ca"
      },
      "source": [
        "# I could not install Spark on local laptop. \n",
        "# That's why I am using Colab.\n",
        "from google.colab import drive\n",
        "drive.mount('/content/drive')"
      ],
      "execution_count": null,
      "outputs": [
        {
          "output_type": "stream",
          "name": "stdout",
          "text": [
            "Mounted at /content/drive\n"
          ]
        }
      ]
    },
    {
      "cell_type": "code",
      "metadata": {
        "colab": {
          "base_uri": "https://localhost:8080/"
        },
        "id": "l4VzbB2Zaze1",
        "outputId": "9c3280b1-fb3c-4db6-a278-fe829c6fd912"
      },
      "source": [
        "# Install specific Java and Spark for Python.\n",
        "!apt-get update\n",
        "!apt-get install openjdk-8-jdk-headless -qq > /dev/null\n",
        "import os\n",
        "os.environ[\"JAVA_HOME\"] = \"/usr/lib/jvm/java-8-openjdk-amd64\"\n",
        "!update-alternatives --set java /usr/lib/jvm/java-8-openjdk-amd64/jre/bin/java\n",
        "!java -version\n",
        "!pip install pyspark"
      ],
      "execution_count": null,
      "outputs": [
        {
          "output_type": "stream",
          "name": "stdout",
          "text": [
            "Get:1 http://security.ubuntu.com/ubuntu bionic-security InRelease [88.7 kB]\n",
            "Get:2 https://cloud.r-project.org/bin/linux/ubuntu bionic-cran40/ InRelease [3,626 B]\n",
            "Ign:3 https://developer.download.nvidia.com/compute/cuda/repos/ubuntu1804/x86_64  InRelease\n",
            "Get:4 http://ppa.launchpad.net/c2d4u.team/c2d4u4.0+/ubuntu bionic InRelease [15.9 kB]\n",
            "Ign:5 https://developer.download.nvidia.com/compute/machine-learning/repos/ubuntu1804/x86_64  InRelease\n",
            "Get:6 https://developer.download.nvidia.com/compute/cuda/repos/ubuntu1804/x86_64  Release [696 B]\n",
            "Hit:7 http://archive.ubuntu.com/ubuntu bionic InRelease\n",
            "Hit:8 https://developer.download.nvidia.com/compute/machine-learning/repos/ubuntu1804/x86_64  Release\n",
            "Get:9 https://developer.download.nvidia.com/compute/cuda/repos/ubuntu1804/x86_64  Release.gpg [836 B]\n",
            "Get:10 http://archive.ubuntu.com/ubuntu bionic-updates InRelease [88.7 kB]\n",
            "Hit:11 http://ppa.launchpad.net/cran/libgit2/ubuntu bionic InRelease\n",
            "Get:12 http://security.ubuntu.com/ubuntu bionic-security/main amd64 Packages [2,396 kB]\n",
            "Get:13 http://archive.ubuntu.com/ubuntu bionic-backports InRelease [74.6 kB]\n",
            "Get:14 http://ppa.launchpad.net/deadsnakes/ppa/ubuntu bionic InRelease [15.9 kB]\n",
            "Get:15 http://security.ubuntu.com/ubuntu bionic-security/universe amd64 Packages [1,434 kB]\n",
            "Get:16 http://security.ubuntu.com/ubuntu bionic-security/restricted amd64 Packages [630 kB]\n",
            "Get:17 https://cloud.r-project.org/bin/linux/ubuntu bionic-cran40/ Packages [69.5 kB]\n",
            "Hit:18 http://ppa.launchpad.net/graphics-drivers/ppa/ubuntu bionic InRelease\n",
            "Get:20 https://developer.download.nvidia.com/compute/cuda/repos/ubuntu1804/x86_64  Packages [753 kB]\n",
            "Get:21 http://ppa.launchpad.net/c2d4u.team/c2d4u4.0+/ubuntu bionic/main Sources [1,810 kB]\n",
            "Get:22 http://archive.ubuntu.com/ubuntu bionic-updates/main amd64 Packages [2,835 kB]\n",
            "Get:23 http://ppa.launchpad.net/c2d4u.team/c2d4u4.0+/ubuntu bionic/main amd64 Packages [926 kB]\n",
            "Get:24 http://archive.ubuntu.com/ubuntu bionic-updates/universe amd64 Packages [2,213 kB]\n",
            "Get:25 http://archive.ubuntu.com/ubuntu bionic-updates/restricted amd64 Packages [665 kB]\n",
            "Get:26 http://ppa.launchpad.net/deadsnakes/ppa/ubuntu bionic/main amd64 Packages [45.3 kB]\n",
            "Fetched 14.1 MB in 4s (3,555 kB/s)\n",
            "Reading package lists... Done\n",
            "update-alternatives: using /usr/lib/jvm/java-8-openjdk-amd64/jre/bin/java to provide /usr/bin/java (java) in manual mode\n",
            "openjdk version \"1.8.0_292\"\n",
            "OpenJDK Runtime Environment (build 1.8.0_292-8u292-b10-0ubuntu1~18.04-b10)\n",
            "OpenJDK 64-Bit Server VM (build 25.292-b10, mixed mode)\n",
            "Collecting pyspark\n",
            "  Downloading pyspark-3.2.0.tar.gz (281.3 MB)\n",
            "\u001b[K     |████████████████████████████████| 281.3 MB 33 kB/s \n",
            "\u001b[?25hCollecting py4j==0.10.9.2\n",
            "  Downloading py4j-0.10.9.2-py2.py3-none-any.whl (198 kB)\n",
            "\u001b[K     |████████████████████████████████| 198 kB 54.8 MB/s \n",
            "\u001b[?25hBuilding wheels for collected packages: pyspark\n",
            "  Building wheel for pyspark (setup.py) ... \u001b[?25l\u001b[?25hdone\n",
            "  Created wheel for pyspark: filename=pyspark-3.2.0-py2.py3-none-any.whl size=281805912 sha256=1c7cdf69fbe26ae3d6d825ab8e99b46f370a676411245ae6a15e1d0288d6fa11\n",
            "  Stored in directory: /root/.cache/pip/wheels/0b/de/d2/9be5d59d7331c6c2a7c1b6d1a4f463ce107332b1ecd4e80718\n",
            "Successfully built pyspark\n",
            "Installing collected packages: py4j, pyspark\n",
            "Successfully installed py4j-0.10.9.2 pyspark-3.2.0\n"
          ]
        }
      ]
    },
    {
      "cell_type": "code",
      "metadata": {
        "id": "MRyd4sqeb3LE"
      },
      "source": [
        "# DataFrame object will be generated by using SparkSession\n",
        "# All required libraries are imported\n",
        "import pandas as pd\n",
        "from pyspark.sql import SparkSession\n",
        "from pyspark.ml.recommendation import ALS\n",
        "from pyspark.ml.evaluation import RegressionEvaluator\n",
        "from pyspark.mllib.evaluation import RankingMetrics\n",
        "from pyspark.ml.tuning import CrossValidator,ParamGridBuilder\n",
        "from pyspark.sql.functions import isnan, when, count, col, explode\n",
        "\n",
        "spark = SparkSession.builder.appName(\"ALS_Recommendation\").getOrCreate()"
      ],
      "execution_count": null,
      "outputs": []
    },
    {
      "cell_type": "code",
      "metadata": {
        "id": "9aTNnpdLD9zM"
      },
      "source": [
        "!unzip \"/content/drive/MyDrive/Spark Notebooks/ml-25m.zip\" -d \"/content/drive/MyDrive/Spark Notebooks\""
      ],
      "execution_count": null,
      "outputs": []
    },
    {
      "cell_type": "code",
      "metadata": {
        "id": "c1Z46cdpoL6G"
      },
      "source": [
        "# I will work on movielens dataset. \n",
        "ratings = spark.read.csv(\"/content/drive/MyDrive/Spark Notebooks/ratings.csv\", inferSchema=True, header=True)"
      ],
      "execution_count": null,
      "outputs": []
    },
    {
      "cell_type": "code",
      "metadata": {
        "colab": {
          "base_uri": "https://localhost:8080/"
        },
        "id": "RMKaDDhLoWSc",
        "outputId": "25b40b24-211d-435a-e537-940cc6b55338"
      },
      "source": [
        "ratings.show()"
      ],
      "execution_count": null,
      "outputs": [
        {
          "output_type": "stream",
          "name": "stdout",
          "text": [
            "+------+-------+------+----------+\n",
            "|userId|movieId|rating| timestamp|\n",
            "+------+-------+------+----------+\n",
            "|     1|    296|   5.0|1147880044|\n",
            "|     1|    306|   3.5|1147868817|\n",
            "|     1|    307|   5.0|1147868828|\n",
            "|     1|    665|   5.0|1147878820|\n",
            "|     1|    899|   3.5|1147868510|\n",
            "|     1|   1088|   4.0|1147868495|\n",
            "|     1|   1175|   3.5|1147868826|\n",
            "|     1|   1217|   3.5|1147878326|\n",
            "|     1|   1237|   5.0|1147868839|\n",
            "|     1|   1250|   4.0|1147868414|\n",
            "|     1|   1260|   3.5|1147877857|\n",
            "|     1|   1653|   4.0|1147868097|\n",
            "|     1|   2011|   2.5|1147868079|\n",
            "|     1|   2012|   2.5|1147868068|\n",
            "|     1|   2068|   2.5|1147869044|\n",
            "|     1|   2161|   3.5|1147868609|\n",
            "|     1|   2351|   4.5|1147877957|\n",
            "|     1|   2573|   4.0|1147878923|\n",
            "|     1|   2632|   5.0|1147878248|\n",
            "|     1|   2692|   5.0|1147869100|\n",
            "+------+-------+------+----------+\n",
            "only showing top 20 rows\n",
            "\n"
          ]
        }
      ]
    },
    {
      "cell_type": "code",
      "metadata": {
        "colab": {
          "base_uri": "https://localhost:8080/"
        },
        "id": "QyhV0I5voXbq",
        "outputId": "74c31245-6381-475a-bb71-7adee41a8f57"
      },
      "source": [
        "ratings.printSchema()"
      ],
      "execution_count": null,
      "outputs": [
        {
          "output_type": "stream",
          "name": "stdout",
          "text": [
            "root\n",
            " |-- userId: integer (nullable = true)\n",
            " |-- movieId: integer (nullable = true)\n",
            " |-- rating: double (nullable = true)\n",
            " |-- timestamp: integer (nullable = true)\n",
            "\n"
          ]
        }
      ]
    },
    {
      "cell_type": "code",
      "metadata": {
        "colab": {
          "base_uri": "https://localhost:8080/"
        },
        "id": "RfKO-lbgohnX",
        "outputId": "7161649c-b48e-4946-9730-3f695d4f6bf2"
      },
      "source": [
        "ratings = ratings.\\\n",
        "    withColumn('userId', ratings['userId'].cast('integer')).\\\n",
        "    withColumn('movieId', ratings['movieId'].cast('integer')).\\\n",
        "    withColumn('rating', ratings['rating'].cast('float')).\\\n",
        "    drop('timestamp')\n",
        "ratings.show()"
      ],
      "execution_count": null,
      "outputs": [
        {
          "output_type": "stream",
          "name": "stdout",
          "text": [
            "+------+-------+------+\n",
            "|userId|movieId|rating|\n",
            "+------+-------+------+\n",
            "|     1|    296|   5.0|\n",
            "|     1|    306|   3.5|\n",
            "|     1|    307|   5.0|\n",
            "|     1|    665|   5.0|\n",
            "|     1|    899|   3.5|\n",
            "|     1|   1088|   4.0|\n",
            "|     1|   1175|   3.5|\n",
            "|     1|   1217|   3.5|\n",
            "|     1|   1237|   5.0|\n",
            "|     1|   1250|   4.0|\n",
            "|     1|   1260|   3.5|\n",
            "|     1|   1653|   4.0|\n",
            "|     1|   2011|   2.5|\n",
            "|     1|   2012|   2.5|\n",
            "|     1|   2068|   2.5|\n",
            "|     1|   2161|   3.5|\n",
            "|     1|   2351|   4.5|\n",
            "|     1|   2573|   4.0|\n",
            "|     1|   2632|   5.0|\n",
            "|     1|   2692|   5.0|\n",
            "+------+-------+------+\n",
            "only showing top 20 rows\n",
            "\n"
          ]
        }
      ]
    },
    {
      "cell_type": "code",
      "metadata": {
        "colab": {
          "base_uri": "https://localhost:8080/"
        },
        "id": "CVINd7s5qBHR",
        "outputId": "5b1a8bee-8c68-4088-d890-114106a727c9"
      },
      "source": [
        "print(\"Number of rows: \", ratings.count())\n",
        "print(\"Number of columns: \", len(ratings.columns))"
      ],
      "execution_count": null,
      "outputs": [
        {
          "output_type": "stream",
          "name": "stdout",
          "text": [
            "Number of rows:  819474\n",
            "Number of columns:  3\n"
          ]
        }
      ]
    },
    {
      "cell_type": "code",
      "metadata": {
        "colab": {
          "base_uri": "https://localhost:8080/"
        },
        "id": "Gw4ysGGv5wfY",
        "outputId": "b2cf9f6c-3074-4304-dcc2-4501cc6b34fa"
      },
      "source": [
        "# Null Analysis\n",
        "ratings.select([count(when(isnan(c) | col(c).isNull(), c)).alias(c) for c in ratings.columns]).show()"
      ],
      "execution_count": null,
      "outputs": [
        {
          "output_type": "stream",
          "name": "stdout",
          "text": [
            "+------+-------+------+\n",
            "|userId|movieId|rating|\n",
            "+------+-------+------+\n",
            "|     0|      0|     0|\n",
            "+------+-------+------+\n",
            "\n"
          ]
        }
      ]
    },
    {
      "cell_type": "code",
      "metadata": {
        "colab": {
          "base_uri": "https://localhost:8080/"
        },
        "id": "XGaH4C0cpgu4",
        "outputId": "6cf60cd1-9dfb-41a3-b07a-d221bdedf4d1"
      },
      "source": [
        "# What is the Sparsity of Data ?\n",
        "rating_n = ratings.select(\"rating\").count() # total number of ratings\n",
        "user_n = ratings.select(\"userId\").distinct().count() # number of distinct userIds\n",
        "movie_n = ratings.select(\"movieId\").distinct().count() # number of distinct movieIds\n",
        "expected_n = user_n * movie_n\n",
        "\n",
        "spars_perc = (1.0 - rating_n/expected_n)*100\n",
        "print(\"Movilens data is \", \"%.3f\" % spars_perc + \"% sparse.\")"
      ],
      "execution_count": null,
      "outputs": [
        {
          "output_type": "stream",
          "name": "stdout",
          "text": [
            "Movilens data is  99.281% sparse.\n"
          ]
        }
      ]
    },
    {
      "cell_type": "code",
      "metadata": {
        "id": "ib6t1Y1TrOBP"
      },
      "source": [
        "SEED = 12345\n",
        "\n",
        "# Create test and train set\n",
        "trainDF, testDF = ratings.randomSplit([0.8, 0.2], seed = SEED)\n",
        "#eva = RankingMetrics(metricName=\"ndcgAt(3)\", labelCol=\"rating\", predictionCol=\"prediction\")\n",
        "eva = RegressionEvaluator(metricName=\"rmse\", labelCol=\"rating\", predictionCol=\"prediction\") # in ALS rec, the metric is genereally RMSE"
      ],
      "execution_count": null,
      "outputs": []
    },
    {
      "cell_type": "code",
      "metadata": {
        "colab": {
          "base_uri": "https://localhost:8080/"
        },
        "id": "2ItyTgx-5MUN",
        "outputId": "55d67374-eaca-4799-b04d-c271eedb95f7"
      },
      "source": [
        "# ALS\n",
        "als = ALS(userCol=\"userId\", itemCol=\"movieId\", ratingCol=\"rating\", nonnegative = True, implicitPrefs = False, coldStartStrategy=\"drop\")\n",
        "\n",
        "model_simple = als.fit(trainDF)\n",
        "\n",
        "resultDF = model_simple.transform(trainDF) \n",
        "accuracy = eva.evaluate(resultDF)\n",
        "print(\"Training Set RMSE: \", accuracy) \n",
        "\n",
        "resultDF = model_simple.transform(testDF) \n",
        "accuracy = eva.evaluate(resultDF)\n",
        "print(\"Test Set RMSE: \", accuracy) # High Bias & Small Overfitting Issue"
      ],
      "execution_count": null,
      "outputs": [
        {
          "output_type": "stream",
          "name": "stdout",
          "text": [
            "Training Set RMSE:  0.7269250636804417\n",
            "Test Set RMSE:  0.830943993512455\n"
          ]
        }
      ]
    },
    {
      "cell_type": "code",
      "metadata": {
        "colab": {
          "base_uri": "https://localhost:8080/"
        },
        "id": "1tGVT2j02FnH",
        "outputId": "96a1ede0-de6e-4dd1-e5a4-e23cdda2e4fd"
      },
      "source": [
        "resultDF.show()"
      ],
      "execution_count": null,
      "outputs": [
        {
          "output_type": "stream",
          "name": "stdout",
          "text": [
            "+------+-------+------+----------+\n",
            "|userId|movieId|rating|prediction|\n",
            "+------+-------+------+----------+\n",
            "|  1238|  32460|   4.0|  4.455361|\n",
            "|  1829|   1580|   3.0| 3.7102973|\n",
            "|   858|   1342|   0.5| 2.3080688|\n",
            "|   858|   2142|   4.0| 2.5964804|\n",
            "|   897|   3175|   3.5|  3.110111|\n",
            "|  2811|   1088|   2.5| 3.1564202|\n",
            "|   516|    833|   3.0| 2.5749044|\n",
            "|  1339|   1580|   3.0| 2.9960284|\n",
            "|  1975|   3175|   4.5| 3.5792768|\n",
            "|  2025|   1580|   4.0| 3.4870303|\n",
            "|  2025|   1959|   3.0|  3.382549|\n",
            "|   879|  68135|   5.0| 4.9348774|\n",
            "|  1977|   4519|   3.0| 2.7046783|\n",
            "|  1977|   5300|   4.0| 2.3205984|\n",
            "|  1977|   8638|   3.0| 3.3015082|\n",
            "|   481|   1580|   4.0| 3.6451063|\n",
            "|   588|   1580|   2.5| 2.7053306|\n",
            "|  2247|   1088|   4.0| 2.5497398|\n",
            "|  2559|    471|   3.0| 3.0884092|\n",
            "|  3105|  33722|   4.0| 2.9010663|\n",
            "+------+-------+------+----------+\n",
            "only showing top 20 rows\n",
            "\n"
          ]
        }
      ]
    },
    {
      "cell_type": "code",
      "metadata": {
        "colab": {
          "base_uri": "https://localhost:8080/"
        },
        "id": "RmHOkMhO2T7E",
        "outputId": "c2a42b02-5746-43c8-e2ed-ac0f528f39af"
      },
      "source": [
        "# Make top-n recommendations for each users in the dataset\n",
        "nrec = model_simple.recommendForAllUsers(1)\n",
        "nrec.limit(10).show(truncate=False)"
      ],
      "execution_count": null,
      "outputs": [
        {
          "output_type": "stream",
          "name": "stderr",
          "text": [
            "/usr/local/lib/python3.7/dist-packages/pyspark/sql/context.py:127: FutureWarning: Deprecated in 3.0.0. Use SparkSession.builder.getOrCreate() instead.\n",
            "  FutureWarning\n"
          ]
        },
        {
          "output_type": "stream",
          "name": "stdout",
          "text": [
            "+------+---------------------+\n",
            "|userId|recommendations      |\n",
            "+------+---------------------+\n",
            "|1     |[{69699, 5.6115956}] |\n",
            "|3     |[{168760, 5.506734}] |\n",
            "|5     |[{101850, 5.347312}] |\n",
            "|6     |[{198185, 5.3276887}]|\n",
            "|9     |[{26325, 6.0876036}] |\n",
            "|12    |[{168760, 4.9787526}]|\n",
            "|13    |[{127019, 5.327953}] |\n",
            "|15    |[{69699, 6.190282}]  |\n",
            "|16    |[{69699, 5.562439}]  |\n",
            "|17    |[{26325, 5.607745}]  |\n",
            "+------+---------------------+\n",
            "\n"
          ]
        }
      ]
    },
    {
      "cell_type": "code",
      "metadata": {
        "colab": {
          "base_uri": "https://localhost:8080/"
        },
        "id": "QiwJLRby5MiW",
        "outputId": "1dc6a4a1-480a-4e39-de40-3e6cbe1b9b3d"
      },
      "source": [
        "nrec = nrec.withColumn(\"rec_exp\", explode(\"recommendations\")).select('userId', col(\"rec_exp.movieId\"), col(\"rec_exp.rating\"))\n",
        "\n",
        "nrec.limit(10).show(truncate=False)"
      ],
      "execution_count": null,
      "outputs": [
        {
          "output_type": "stream",
          "name": "stdout",
          "text": [
            "+------+-------+---------+\n",
            "|userId|movieId|rating   |\n",
            "+------+-------+---------+\n",
            "|1     |69699  |5.6115956|\n",
            "|3     |168760 |5.506734 |\n",
            "|5     |101850 |5.347312 |\n",
            "|6     |198185 |5.3276887|\n",
            "|9     |26325  |6.0876036|\n",
            "|12    |168760 |4.9787526|\n",
            "|13    |127019 |5.327953 |\n",
            "|15    |69699  |6.190282 |\n",
            "|16    |69699  |5.562439 |\n",
            "|17    |26325  |5.607745 |\n",
            "+------+-------+---------+\n",
            "\n"
          ]
        }
      ]
    },
    {
      "cell_type": "code",
      "metadata": {
        "id": "2sKSIUHT3R8s"
      },
      "source": [
        "# Hyperparameter Tuning\n",
        "als = ALS(userCol=\"userId\", itemCol=\"movieId\", ratingCol=\"rating\", nonnegative = True, implicitPrefs = False, coldStartStrategy=\"drop\")\n",
        "# an option to force non negative constraints on ALS. \n",
        "# set the coldStartStrategy parameter to “drop” in order to drop any rows in the DataFrame of predictions that contain NaN values. The evaluation metric will then be computed over the non-NaN data and will be valid\n",
        "# alpha is a parameter applicable to the implicit feedback variant of ALS that governs the baseline confidence in preference observations (defaults to 1.0)\n",
        "#rank is the number of latent factors in the model (defaults to 10)\n",
        "params = ParamGridBuilder().addGrid(als.rank, [2, 5, 10]) \\\n",
        "                            .addGrid(als.regParam, [0.1, 1, 3, 10]) \\\n",
        "                            .build()\n",
        "#[10, 20, 50, 100]\n",
        "# [0.01, 0.05, 0.1]\n",
        "# [1, 0.5, 0.1, 0.01]\n",
        "validator = CrossValidator(estimator=als,\n",
        "                                estimatorParamMaps=params,\n",
        "                                evaluator=eva,\n",
        "                                numFolds=5,\n",
        "                                parallelism=4,\n",
        "                                seed=SEED,\n",
        "                          collectSubModels=True)\n",
        "\n",
        "model = validator.fit(trainDF)\n",
        "\n",
        "print(model.subModels)\n",
        "\n",
        "print (\"Num models to be tested without considering folds: \", len(params))\n",
        "\n",
        "\n",
        "print(\"Num of Iteration: \", model.bestModel._java_obj.parent().getRank())\n",
        "print(\"Regularization parameter: \", model.bestModel._java_obj.parent().getRegParam())\n",
        "print(\"ElasticNet mixing parameter: \", model.bestModel._java_obj.parent().getAlpha())\n",
        "\n",
        "resultDF = model.transform(testDF) # Best model will be selected here\n",
        "\n",
        "accuracy = eva.evaluate(resultDF)\n",
        "print(\"Test Set RMSE: \", accuracy)"
      ],
      "execution_count": null,
      "outputs": []
    }
  ]
}